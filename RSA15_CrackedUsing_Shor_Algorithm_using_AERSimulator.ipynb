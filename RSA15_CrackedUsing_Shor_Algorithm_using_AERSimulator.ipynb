{
 "cells": [
  {
   "cell_type": "code",
   "execution_count": 2,
   "metadata": {},
   "outputs": [
    {
     "name": "stdout",
     "output_type": "stream",
     "text": [
      "Trying a = 2...\n",
      "Trying a = 4...\n",
      "Trying a = 7...\n",
      "Trying a = 8...\n",
      "Trying a = 11...\n",
      "Shor’s Algorithm found factors: 5 and 3\n"
     ]
    },
    {
     "data": {
      "image/png": "[encoded data removed]",
      "text/plain": [
       "<Figure size 640x480 with 1 Axes>"
      ]
     },
     "execution_count": 2,
     "metadata": {},
     "output_type": "execute_result"
    }
   ],
   "source": [
    "# Import necessary Qiskit libraries\n",
    "import qiskit\n",
    "from qiskit import QuantumCircuit, transpile\n",
    "from qiskit.visualization import plot_histogram\n",
    "from qiskit_aer import Aer  # Fixed import\n",
    "from fractions import Fraction\n",
    "import numpy as np\n",
    "import math  \n",
    "\n",
    "# Define the inverse Quantum Fourier Transform (QFT†)\n",
    "def qft_dagger(n):\n",
    "    qc = QuantumCircuit(n)\n",
    "    for qubit in range(n // 2):\n",
    "        qc.swap(qubit, n - qubit - 1)\n",
    "    for j in range(n):\n",
    "        for k in range(j):\n",
    "            qc.cp(-np.pi / float(2 ** (j - k)), k, j)\n",
    "        qc.h(j)\n",
    "    qc.name = \"QFT†\"\n",
    "    return qc\n",
    "\n",
    "# Define modular exponentiation as a quantum circuit (Fixed)\n",
    "def modular_exponentiation(a, power, N):\n",
    "    qc = QuantumCircuit(4)  # Only 4 data qubits (control will be added later)\n",
    "\n",
    "    for _ in range(power):\n",
    "        if a in [2, 13]:  \n",
    "            qc.swap(0, 1)\n",
    "            qc.swap(1, 2)\n",
    "            qc.swap(2, 3)\n",
    "        elif a in [4, 11]:  \n",
    "            qc.swap(2, 3)\n",
    "            qc.swap(1, 2)\n",
    "            qc.swap(0, 1)\n",
    "        elif a in [7, 8]:  \n",
    "            qc.swap(1, 3)\n",
    "            qc.swap(0, 2)\n",
    "\n",
    "    # **Apply control gate** (Fixing the qubit mismatch issue)\n",
    "    controlled_qc = qc.control(1)  # Convert to controlled operation\n",
    "    return controlled_qc  # Return the controlled operation\n",
    "\n",
    "# Define the Quantum Phase Estimation circuit for a^x mod N (Fixed)\n",
    "def qpe_amodN(a, N):\n",
    "    qc = QuantumCircuit(10, 6)  # 6 counting qubits, 4 computational qubits\n",
    "    qc.h(range(6))  # Apply Hadamard to counting qubits\n",
    "    qc.x(6)  # Initialize |1> state for modular exponentiation\n",
    "\n",
    "    for q in range(6):\n",
    "        qc.append(modular_exponentiation(a, 2**q, N), \n",
    "                  [q] + list(range(6, 10)))  # Corrected argument list\n",
    "\n",
    "    qc.append(qft_dagger(6), range(6))  # Apply inverse QFT\n",
    "    qc.measure(range(6), range(6))  # Measure first 6 qubits\n",
    "    return qc\n",
    "\n",
    "# Classical function to compute factors using period r\n",
    "def find_factors(a, N, r):\n",
    "    if r % 2 == 1 or r == 0:\n",
    "        return None  # We need an even r\n",
    "    factor1 = math.gcd(a ** (r // 2) - 1, N)\n",
    "    factor2 = math.gcd(a ** (r // 2) + 1, N)\n",
    "    if factor1 in [1, N] or factor2 in [1, N]:\n",
    "        return None  # No non-trivial factors found\n",
    "    return factor1, factor2\n",
    "\n",
    "# Example: Breaking RSA-15 (N=15)\n",
    "N = 15  # RSA modulus (product of 3 and 5)\n",
    "np.random.seed(1)\n",
    "valid_factors = None\n",
    "backend = Aer.get_backend('aer_simulator')\n",
    "\n",
    "for a in [2, 4, 7, 8, 11, 13]:\n",
    "    if math.gcd(a, N) > 1:\n",
    "        print(f\"Trivial factor found: {math.gcd(a, N)}\")\n",
    "        continue\n",
    "    print(f\"Trying a = {a}...\")\n",
    "    qc = qpe_amodN(a, N)\n",
    "    tqc = transpile(qc, backend)\n",
    "    result = backend.run(tqc, shots=1024).result()\n",
    "    counts = result.get_counts()\n",
    "    if counts:\n",
    "        measured_phase = max(counts, key=counts.get)\n",
    "        decimal_phase = int(measured_phase, 2) / (2**6)\n",
    "        fraction = Fraction(decimal_phase).limit_denominator(2**6)\n",
    "        r = fraction.denominator\n",
    "        factors = find_factors(a, N, r)\n",
    "        if factors:\n",
    "            valid_factors = factors\n",
    "            break\n",
    "    else:\n",
    "        print(\"No measurement results. Trying next value of a...\")\n",
    "\n",
    "if valid_factors:\n",
    "    print(f\"Shor’s Algorithm found factors: {valid_factors[0]} and {valid_factors[1]}\")\n",
    "else:\n",
    "    print(\"Shor’s Algorithm failed. Try again with a different N.\")\n",
    "\n",
    "plot_histogram(counts)"
   ]
  },
  {
   "cell_type": "markdown",
   "metadata": {},
   "source": [
    "#DEMONSTRATION 2 : THIS PROGRAM HAS CRACKED RSA-15 USING THE AER-SIMULATOR"
   ]
  }
 ],
 "metadata": {
  "kernelspec": {
   "display_name": "Python 3",
   "language": "python",
   "name": "python3"
  },
  "language_info": {
   "codemirror_mode": {
    "name": "ipython",
    "version": 3
   },
   "file_extension": ".py",
   "mimetype": "text/x-python",
   "name": "python",
   "nbconvert_exporter": "python",
   "pygments_lexer": "ipython3",
   "version": "3.13.2"
  }
 },
 "nbformat": 4,
 "nbformat_minor": 2
}
